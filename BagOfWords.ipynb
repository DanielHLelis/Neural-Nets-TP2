{
 "cells": [
  {
   "cell_type": "code",
   "execution_count": 1,
   "id": "initial_id",
   "metadata": {
    "collapsed": true,
    "ExecuteTime": {
     "end_time": "2024-06-15T03:36:27.002159Z",
     "start_time": "2024-06-15T03:36:16.024273Z"
    }
   },
   "outputs": [],
   "source": [
    "import pandas as pd\n",
    "import re\n",
    "from unidecode import unidecode\n",
    "\n",
    "from nltk.tokenize import word_tokenize\n",
    "import spacy\n",
    "\n",
    "from tqdm import tqdm"
   ]
  },
  {
   "cell_type": "code",
   "outputs": [
    {
     "name": "stdout",
     "output_type": "stream",
     "text": [
      "Collecting pt-core-news-sm==3.7.0\n",
      "  Downloading https://github.com/explosion/spacy-models/releases/download/pt_core_news_sm-3.7.0/pt_core_news_sm-3.7.0-py3-none-any.whl (13.0 MB)\n",
      "     ---------------------------------------- 0.0/13.0 MB ? eta -:--:--\n",
      "     --------------------------------------- 0.0/13.0 MB 330.3 kB/s eta 0:00:40\n",
      "     --------------------------------------- 0.0/13.0 MB 325.1 kB/s eta 0:00:40\n",
      "     --------------------------------------- 0.0/13.0 MB 281.8 kB/s eta 0:00:46\n",
      "     --------------------------------------- 0.1/13.0 MB 853.3 kB/s eta 0:00:16\n",
      "     - -------------------------------------- 0.5/13.0 MB 2.0 MB/s eta 0:00:07\n",
      "     -- ------------------------------------- 0.9/13.0 MB 3.4 MB/s eta 0:00:04\n",
      "     ---- ----------------------------------- 1.4/13.0 MB 4.3 MB/s eta 0:00:03\n",
      "     ----- ---------------------------------- 1.8/13.0 MB 4.9 MB/s eta 0:00:03\n",
      "     ------ --------------------------------- 2.2/13.0 MB 5.4 MB/s eta 0:00:03\n",
      "     ------- -------------------------------- 2.4/13.0 MB 5.4 MB/s eta 0:00:02\n",
      "     ------- -------------------------------- 2.6/13.0 MB 5.3 MB/s eta 0:00:02\n",
      "     -------- ------------------------------- 2.8/13.0 MB 5.4 MB/s eta 0:00:02\n",
      "     --------- ------------------------------ 3.2/13.0 MB 5.5 MB/s eta 0:00:02\n",
      "     --------- ------------------------------ 3.2/13.0 MB 5.2 MB/s eta 0:00:02\n",
      "     ---------- ----------------------------- 3.3/13.0 MB 5.0 MB/s eta 0:00:02\n",
      "     ----------- ---------------------------- 3.7/13.0 MB 5.1 MB/s eta 0:00:02\n",
      "     ------------ --------------------------- 4.1/13.0 MB 5.4 MB/s eta 0:00:02\n",
      "     -------------- ------------------------- 4.6/13.0 MB 5.7 MB/s eta 0:00:02\n",
      "     --------------- ------------------------ 5.1/13.0 MB 5.9 MB/s eta 0:00:02\n",
      "     ----------------- ---------------------- 5.5/13.0 MB 6.1 MB/s eta 0:00:02\n",
      "     ------------------ --------------------- 6.0/13.0 MB 6.3 MB/s eta 0:00:02\n",
      "     ------------------- -------------------- 6.4/13.0 MB 6.4 MB/s eta 0:00:02\n",
      "     --------------------- ------------------ 6.9/13.0 MB 6.6 MB/s eta 0:00:01\n",
      "     ---------------------- ----------------- 7.3/13.0 MB 6.7 MB/s eta 0:00:01\n",
      "     ----------------------- ---------------- 7.7/13.0 MB 6.8 MB/s eta 0:00:01\n",
      "     ------------------------- -------------- 8.2/13.0 MB 6.9 MB/s eta 0:00:01\n",
      "     -------------------------- ------------- 8.7/13.0 MB 7.1 MB/s eta 0:00:01\n",
      "     ---------------------------- ----------- 9.1/13.0 MB 7.2 MB/s eta 0:00:01\n",
      "     ----------------------------- ---------- 9.6/13.0 MB 7.2 MB/s eta 0:00:01\n",
      "     ------------------------------- -------- 10.1/13.0 MB 7.4 MB/s eta 0:00:01\n",
      "     -------------------------------- ------- 10.5/13.0 MB 8.3 MB/s eta 0:00:01\n",
      "     --------------------------------- ------ 11.0/13.0 MB 8.4 MB/s eta 0:00:01\n",
      "     ---------------------------------- ----- 11.3/13.0 MB 8.4 MB/s eta 0:00:01\n",
      "     ------------------------------------ --- 11.7/13.0 MB 8.4 MB/s eta 0:00:01\n",
      "     ------------------------------------- -- 12.2/13.0 MB 8.5 MB/s eta 0:00:01\n",
      "     -------------------------------------- - 12.6/13.0 MB 8.4 MB/s eta 0:00:01\n",
      "     ---------------------------------------  13.0/13.0 MB 8.8 MB/s eta 0:00:01\n",
      "     ---------------------------------------- 13.0/13.0 MB 8.5 MB/s eta 0:00:00\n",
      "Requirement already satisfied: spacy<3.8.0,>=3.7.0 in c:\\users\\samue\\appdata\\local\\programs\\python\\python312\\lib\\site-packages (from pt-core-news-sm==3.7.0) (3.7.5)\n",
      "Requirement already satisfied: spacy-legacy<3.1.0,>=3.0.11 in c:\\users\\samue\\appdata\\local\\programs\\python\\python312\\lib\\site-packages (from spacy<3.8.0,>=3.7.0->pt-core-news-sm==3.7.0) (3.0.12)\n",
      "Requirement already satisfied: spacy-loggers<2.0.0,>=1.0.0 in c:\\users\\samue\\appdata\\local\\programs\\python\\python312\\lib\\site-packages (from spacy<3.8.0,>=3.7.0->pt-core-news-sm==3.7.0) (1.0.5)\n",
      "Requirement already satisfied: murmurhash<1.1.0,>=0.28.0 in c:\\users\\samue\\appdata\\local\\programs\\python\\python312\\lib\\site-packages (from spacy<3.8.0,>=3.7.0->pt-core-news-sm==3.7.0) (1.0.10)\n",
      "Requirement already satisfied: cymem<2.1.0,>=2.0.2 in c:\\users\\samue\\appdata\\local\\programs\\python\\python312\\lib\\site-packages (from spacy<3.8.0,>=3.7.0->pt-core-news-sm==3.7.0) (2.0.8)\n",
      "Requirement already satisfied: preshed<3.1.0,>=3.0.2 in c:\\users\\samue\\appdata\\local\\programs\\python\\python312\\lib\\site-packages (from spacy<3.8.0,>=3.7.0->pt-core-news-sm==3.7.0) (3.0.9)\n",
      "Requirement already satisfied: thinc<8.3.0,>=8.2.2 in c:\\users\\samue\\appdata\\local\\programs\\python\\python312\\lib\\site-packages (from spacy<3.8.0,>=3.7.0->pt-core-news-sm==3.7.0) (8.2.4)\n",
      "Requirement already satisfied: wasabi<1.2.0,>=0.9.1 in c:\\users\\samue\\appdata\\local\\programs\\python\\python312\\lib\\site-packages (from spacy<3.8.0,>=3.7.0->pt-core-news-sm==3.7.0) (1.1.3)\n",
      "Requirement already satisfied: srsly<3.0.0,>=2.4.3 in c:\\users\\samue\\appdata\\local\\programs\\python\\python312\\lib\\site-packages (from spacy<3.8.0,>=3.7.0->pt-core-news-sm==3.7.0) (2.4.8)\n",
      "Requirement already satisfied: catalogue<2.1.0,>=2.0.6 in c:\\users\\samue\\appdata\\local\\programs\\python\\python312\\lib\\site-packages (from spacy<3.8.0,>=3.7.0->pt-core-news-sm==3.7.0) (2.0.10)\n",
      "Requirement already satisfied: weasel<0.5.0,>=0.1.0 in c:\\users\\samue\\appdata\\local\\programs\\python\\python312\\lib\\site-packages (from spacy<3.8.0,>=3.7.0->pt-core-news-sm==3.7.0) (0.4.1)\n",
      "Requirement already satisfied: typer<1.0.0,>=0.3.0 in c:\\users\\samue\\appdata\\local\\programs\\python\\python312\\lib\\site-packages (from spacy<3.8.0,>=3.7.0->pt-core-news-sm==3.7.0) (0.12.3)\n",
      "Requirement already satisfied: tqdm<5.0.0,>=4.38.0 in c:\\users\\samue\\appdata\\local\\programs\\python\\python312\\lib\\site-packages (from spacy<3.8.0,>=3.7.0->pt-core-news-sm==3.7.0) (4.66.4)\n",
      "Requirement already satisfied: requests<3.0.0,>=2.13.0 in c:\\users\\samue\\appdata\\local\\programs\\python\\python312\\lib\\site-packages (from spacy<3.8.0,>=3.7.0->pt-core-news-sm==3.7.0) (2.32.3)\n",
      "Requirement already satisfied: pydantic!=1.8,!=1.8.1,<3.0.0,>=1.7.4 in c:\\users\\samue\\appdata\\local\\programs\\python\\python312\\lib\\site-packages (from spacy<3.8.0,>=3.7.0->pt-core-news-sm==3.7.0) (2.7.4)\n",
      "Requirement already satisfied: jinja2 in c:\\users\\samue\\appdata\\local\\programs\\python\\python312\\lib\\site-packages (from spacy<3.8.0,>=3.7.0->pt-core-news-sm==3.7.0) (3.1.4)\n",
      "Requirement already satisfied: setuptools in c:\\users\\samue\\appdata\\local\\programs\\python\\python312\\lib\\site-packages (from spacy<3.8.0,>=3.7.0->pt-core-news-sm==3.7.0) (69.5.1)\n",
      "Requirement already satisfied: packaging>=20.0 in c:\\users\\samue\\appdata\\local\\programs\\python\\python312\\lib\\site-packages (from spacy<3.8.0,>=3.7.0->pt-core-news-sm==3.7.0) (24.1)\n",
      "Requirement already satisfied: langcodes<4.0.0,>=3.2.0 in c:\\users\\samue\\appdata\\local\\programs\\python\\python312\\lib\\site-packages (from spacy<3.8.0,>=3.7.0->pt-core-news-sm==3.7.0) (3.4.0)\n",
      "Requirement already satisfied: numpy>=1.19.0 in c:\\users\\samue\\appdata\\local\\programs\\python\\python312\\lib\\site-packages (from spacy<3.8.0,>=3.7.0->pt-core-news-sm==3.7.0) (1.26.4)\n",
      "Requirement already satisfied: language-data>=1.2 in c:\\users\\samue\\appdata\\local\\programs\\python\\python312\\lib\\site-packages (from langcodes<4.0.0,>=3.2.0->spacy<3.8.0,>=3.7.0->pt-core-news-sm==3.7.0) (1.2.0)\n",
      "Requirement already satisfied: annotated-types>=0.4.0 in c:\\users\\samue\\appdata\\local\\programs\\python\\python312\\lib\\site-packages (from pydantic!=1.8,!=1.8.1,<3.0.0,>=1.7.4->spacy<3.8.0,>=3.7.0->pt-core-news-sm==3.7.0) (0.7.0)\n",
      "Requirement already satisfied: pydantic-core==2.18.4 in c:\\users\\samue\\appdata\\local\\programs\\python\\python312\\lib\\site-packages (from pydantic!=1.8,!=1.8.1,<3.0.0,>=1.7.4->spacy<3.8.0,>=3.7.0->pt-core-news-sm==3.7.0) (2.18.4)\n",
      "Requirement already satisfied: typing-extensions>=4.6.1 in c:\\users\\samue\\appdata\\local\\programs\\python\\python312\\lib\\site-packages (from pydantic!=1.8,!=1.8.1,<3.0.0,>=1.7.4->spacy<3.8.0,>=3.7.0->pt-core-news-sm==3.7.0) (4.12.2)\n",
      "Requirement already satisfied: charset-normalizer<4,>=2 in c:\\users\\samue\\appdata\\local\\programs\\python\\python312\\lib\\site-packages (from requests<3.0.0,>=2.13.0->spacy<3.8.0,>=3.7.0->pt-core-news-sm==3.7.0) (3.3.2)\n",
      "Requirement already satisfied: idna<4,>=2.5 in c:\\users\\samue\\appdata\\local\\programs\\python\\python312\\lib\\site-packages (from requests<3.0.0,>=2.13.0->spacy<3.8.0,>=3.7.0->pt-core-news-sm==3.7.0) (3.7)\n",
      "Requirement already satisfied: urllib3<3,>=1.21.1 in c:\\users\\samue\\appdata\\local\\programs\\python\\python312\\lib\\site-packages (from requests<3.0.0,>=2.13.0->spacy<3.8.0,>=3.7.0->pt-core-news-sm==3.7.0) (2.2.1)\n",
      "Requirement already satisfied: certifi>=2017.4.17 in c:\\users\\samue\\appdata\\local\\programs\\python\\python312\\lib\\site-packages (from requests<3.0.0,>=2.13.0->spacy<3.8.0,>=3.7.0->pt-core-news-sm==3.7.0) (2024.2.2)\n",
      "Requirement already satisfied: blis<0.8.0,>=0.7.8 in c:\\users\\samue\\appdata\\local\\programs\\python\\python312\\lib\\site-packages (from thinc<8.3.0,>=8.2.2->spacy<3.8.0,>=3.7.0->pt-core-news-sm==3.7.0) (0.7.11)\n",
      "Requirement already satisfied: confection<1.0.0,>=0.0.1 in c:\\users\\samue\\appdata\\local\\programs\\python\\python312\\lib\\site-packages (from thinc<8.3.0,>=8.2.2->spacy<3.8.0,>=3.7.0->pt-core-news-sm==3.7.0) (0.1.5)\n",
      "Requirement already satisfied: colorama in c:\\users\\samue\\appdata\\local\\programs\\python\\python312\\lib\\site-packages (from tqdm<5.0.0,>=4.38.0->spacy<3.8.0,>=3.7.0->pt-core-news-sm==3.7.0) (0.4.6)\n",
      "Requirement already satisfied: click>=8.0.0 in c:\\users\\samue\\appdata\\local\\programs\\python\\python312\\lib\\site-packages (from typer<1.0.0,>=0.3.0->spacy<3.8.0,>=3.7.0->pt-core-news-sm==3.7.0) (8.1.7)\n",
      "Requirement already satisfied: shellingham>=1.3.0 in c:\\users\\samue\\appdata\\local\\programs\\python\\python312\\lib\\site-packages (from typer<1.0.0,>=0.3.0->spacy<3.8.0,>=3.7.0->pt-core-news-sm==3.7.0) (1.5.4)\n",
      "Requirement already satisfied: rich>=10.11.0 in c:\\users\\samue\\appdata\\local\\programs\\python\\python312\\lib\\site-packages (from typer<1.0.0,>=0.3.0->spacy<3.8.0,>=3.7.0->pt-core-news-sm==3.7.0) (13.7.1)\n",
      "Requirement already satisfied: cloudpathlib<1.0.0,>=0.7.0 in c:\\users\\samue\\appdata\\local\\programs\\python\\python312\\lib\\site-packages (from weasel<0.5.0,>=0.1.0->spacy<3.8.0,>=3.7.0->pt-core-news-sm==3.7.0) (0.18.1)\n",
      "Requirement already satisfied: smart-open<8.0.0,>=5.2.1 in c:\\users\\samue\\appdata\\local\\programs\\python\\python312\\lib\\site-packages (from weasel<0.5.0,>=0.1.0->spacy<3.8.0,>=3.7.0->pt-core-news-sm==3.7.0) (7.0.4)\n",
      "Requirement already satisfied: MarkupSafe>=2.0 in c:\\users\\samue\\appdata\\local\\programs\\python\\python312\\lib\\site-packages (from jinja2->spacy<3.8.0,>=3.7.0->pt-core-news-sm==3.7.0) (2.1.5)\n",
      "Requirement already satisfied: marisa-trie>=0.7.7 in c:\\users\\samue\\appdata\\local\\programs\\python\\python312\\lib\\site-packages (from language-data>=1.2->langcodes<4.0.0,>=3.2.0->spacy<3.8.0,>=3.7.0->pt-core-news-sm==3.7.0) (1.2.0)\n",
      "Requirement already satisfied: markdown-it-py>=2.2.0 in c:\\users\\samue\\appdata\\local\\programs\\python\\python312\\lib\\site-packages (from rich>=10.11.0->typer<1.0.0,>=0.3.0->spacy<3.8.0,>=3.7.0->pt-core-news-sm==3.7.0) (3.0.0)\n",
      "Requirement already satisfied: pygments<3.0.0,>=2.13.0 in c:\\users\\samue\\appdata\\local\\programs\\python\\python312\\lib\\site-packages (from rich>=10.11.0->typer<1.0.0,>=0.3.0->spacy<3.8.0,>=3.7.0->pt-core-news-sm==3.7.0) (2.18.0)\n",
      "Requirement already satisfied: wrapt in c:\\users\\samue\\appdata\\local\\programs\\python\\python312\\lib\\site-packages (from smart-open<8.0.0,>=5.2.1->weasel<0.5.0,>=0.1.0->spacy<3.8.0,>=3.7.0->pt-core-news-sm==3.7.0) (1.16.0)\n",
      "Requirement already satisfied: mdurl~=0.1 in c:\\users\\samue\\appdata\\local\\programs\\python\\python312\\lib\\site-packages (from markdown-it-py>=2.2.0->rich>=10.11.0->typer<1.0.0,>=0.3.0->spacy<3.8.0,>=3.7.0->pt-core-news-sm==3.7.0) (0.1.2)\n",
      "\u001B[38;5;2m[+] Download and installation successful\u001B[0m\n",
      "You can now load the package via spacy.load('pt_core_news_sm')\n"
     ]
    }
   ],
   "source": [
    "! python -m spacy download pt_core_news_sm"
   ],
   "metadata": {
    "collapsed": false,
    "ExecuteTime": {
     "end_time": "2024-06-15T03:36:37.917336Z",
     "start_time": "2024-06-15T03:36:27.004519Z"
    }
   },
   "id": "2eec03cabd56dd7d",
   "execution_count": 2
  },
  {
   "cell_type": "code",
   "outputs": [
    {
     "data": {
      "text/plain": "       dataset                                id  \\\n0      ToLD-Br              17617711318335429284   \n1      ToLD-Br               7288264196393788121   \n2      ToLD-Br               1519599024025873488   \n3      ToLD-Br               4211815168063456011   \n4      ToLD-Br               1231484732880705337   \n...        ...                               ...   \n27947  OLID-Br  c4eb91336485416b83d3d9de5585c74d   \n27948  OLID-Br  f9e864f275d14bed9cd9e2ae8aed259d   \n27949  OLID-Br  574c84477a0243eba5814c4eef41aad3   \n27950  OLID-Br  682e423fda2542e9a914bcf58cb44477   \n27951  OLID-Br  46ad1013744549d58514bfd1f67e3773   \n\n                                                    text  off_strict  \\\n0      Meu nivel de amizade com isis é ela ter meu in...        True   \n1      rt USER USER o cara adultera dados, que foram ...        True   \n2      USER USER USER o cara só é simplesmente o maio...        True   \n3      eu to chorando vei vsf e eu nem staneio izone ...        True   \n4      Eleitor do Bolsonaro é tão ignorante q não per...        True   \n...                                                  ...         ...   \n27947                Essa thayse é falsa credo 😂 😂 😂 😂 😂        True   \n27948  Cara que tirar de contexto USER USER falou uma...       False   \n27949  USER Fala que era da era Obama!!!!! Jornalismo...        True   \n27950  Existe pessoas que tem fetiche por pessoas \"su...       False   \n27951  RT USER: Mlk sai peitando a guria e vcs acham ...       False   \n\n       off_relaxed  \n0             True  \n1            False  \n2             True  \n3            False  \n4             True  \n...            ...  \n27947         True  \n27948        False  \n27949         True  \n27950        False  \n27951        False  \n\n[27952 rows x 5 columns]",
      "text/html": "<div>\n<style scoped>\n    .dataframe tbody tr th:only-of-type {\n        vertical-align: middle;\n    }\n\n    .dataframe tbody tr th {\n        vertical-align: top;\n    }\n\n    .dataframe thead th {\n        text-align: right;\n    }\n</style>\n<table border=\"1\" class=\"dataframe\">\n  <thead>\n    <tr style=\"text-align: right;\">\n      <th></th>\n      <th>dataset</th>\n      <th>id</th>\n      <th>text</th>\n      <th>off_strict</th>\n      <th>off_relaxed</th>\n    </tr>\n  </thead>\n  <tbody>\n    <tr>\n      <th>0</th>\n      <td>ToLD-Br</td>\n      <td>17617711318335429284</td>\n      <td>Meu nivel de amizade com isis é ela ter meu in...</td>\n      <td>True</td>\n      <td>True</td>\n    </tr>\n    <tr>\n      <th>1</th>\n      <td>ToLD-Br</td>\n      <td>7288264196393788121</td>\n      <td>rt USER USER o cara adultera dados, que foram ...</td>\n      <td>True</td>\n      <td>False</td>\n    </tr>\n    <tr>\n      <th>2</th>\n      <td>ToLD-Br</td>\n      <td>1519599024025873488</td>\n      <td>USER USER USER o cara só é simplesmente o maio...</td>\n      <td>True</td>\n      <td>True</td>\n    </tr>\n    <tr>\n      <th>3</th>\n      <td>ToLD-Br</td>\n      <td>4211815168063456011</td>\n      <td>eu to chorando vei vsf e eu nem staneio izone ...</td>\n      <td>True</td>\n      <td>False</td>\n    </tr>\n    <tr>\n      <th>4</th>\n      <td>ToLD-Br</td>\n      <td>1231484732880705337</td>\n      <td>Eleitor do Bolsonaro é tão ignorante q não per...</td>\n      <td>True</td>\n      <td>True</td>\n    </tr>\n    <tr>\n      <th>...</th>\n      <td>...</td>\n      <td>...</td>\n      <td>...</td>\n      <td>...</td>\n      <td>...</td>\n    </tr>\n    <tr>\n      <th>27947</th>\n      <td>OLID-Br</td>\n      <td>c4eb91336485416b83d3d9de5585c74d</td>\n      <td>Essa thayse é falsa credo 😂 😂 😂 😂 😂</td>\n      <td>True</td>\n      <td>True</td>\n    </tr>\n    <tr>\n      <th>27948</th>\n      <td>OLID-Br</td>\n      <td>f9e864f275d14bed9cd9e2ae8aed259d</td>\n      <td>Cara que tirar de contexto USER USER falou uma...</td>\n      <td>False</td>\n      <td>False</td>\n    </tr>\n    <tr>\n      <th>27949</th>\n      <td>OLID-Br</td>\n      <td>574c84477a0243eba5814c4eef41aad3</td>\n      <td>USER Fala que era da era Obama!!!!! Jornalismo...</td>\n      <td>True</td>\n      <td>True</td>\n    </tr>\n    <tr>\n      <th>27950</th>\n      <td>OLID-Br</td>\n      <td>682e423fda2542e9a914bcf58cb44477</td>\n      <td>Existe pessoas que tem fetiche por pessoas \"su...</td>\n      <td>False</td>\n      <td>False</td>\n    </tr>\n    <tr>\n      <th>27951</th>\n      <td>OLID-Br</td>\n      <td>46ad1013744549d58514bfd1f67e3773</td>\n      <td>RT USER: Mlk sai peitando a guria e vcs acham ...</td>\n      <td>False</td>\n      <td>False</td>\n    </tr>\n  </tbody>\n</table>\n<p>27952 rows × 5 columns</p>\n</div>"
     },
     "execution_count": 3,
     "metadata": {},
     "output_type": "execute_result"
    }
   ],
   "source": [
    "df = pd.read_parquet(\"datasets/joint/data.parquet.zstd\")\n",
    "df"
   ],
   "metadata": {
    "collapsed": false,
    "ExecuteTime": {
     "end_time": "2024-06-15T03:36:38.215273Z",
     "start_time": "2024-06-15T03:36:37.919786Z"
    }
   },
   "id": "41b4a67d6526c516",
   "execution_count": 3
  },
  {
   "cell_type": "code",
   "outputs": [
    {
     "name": "stderr",
     "output_type": "stream",
     "text": [
      "100%|██████████| 27952/27952 [04:01<00:00, 115.83it/s]\n"
     ]
    }
   ],
   "source": [
    "nlp = spacy.load(\"pt_core_news_sm\")\n",
    "lemma = lambda x : x.lemma_\n",
    "\n",
    "# Normalização dos textos\n",
    "for i,row in tqdm(df.iterrows(), total=df.shape[0]):\n",
    "    temp =  row['text'].lower()\n",
    "    \n",
    "    # Remoção de vírgulas, aspas, emojis, quebras de linha \n",
    "    temp = re.sub(r'[^\\w\\s]|[\\n]', '',temp)\n",
    "    # Lematização\n",
    "    temp = \" \".join(list(map(lemma, nlp(temp)))) \n",
    "    # Removeção de acentos, cedilhas e semelhantes\n",
    "    temp = unidecode(temp)\n",
    "    \n",
    "    df.loc[i,'text'] = temp"
   ],
   "metadata": {
    "collapsed": false,
    "ExecuteTime": {
     "end_time": "2024-06-15T03:40:40.078705Z",
     "start_time": "2024-06-15T03:36:38.217283Z"
    }
   },
   "id": "f639fbfce32c2c5b",
   "execution_count": 4
  },
  {
   "cell_type": "code",
   "outputs": [
    {
     "data": {
      "text/plain": "2903"
     },
     "execution_count": 5,
     "metadata": {},
     "output_type": "execute_result"
    }
   ],
   "source": [
    "OCC_TRESHOLD = 10\n",
    "\n",
    "# Conta quantas vezes cada palavra apareceu\n",
    "occurences = {}\n",
    "for t in df['text']:\n",
    "    words = word_tokenize(t)\n",
    "    for w in words:\n",
    "        if w not in occurences:\n",
    "            occurences[w] = 1\n",
    "        else:\n",
    "            occurences[w] += 1\n",
    "            \n",
    "# Mantem apenas as palavras que aparecem mais vezes que o treshold\n",
    "vocab = []\n",
    "for w,counter in occurences.items():\n",
    "    if counter > OCC_TRESHOLD:\n",
    "        vocab.append(w)\n",
    "        \n",
    "vocab = sorted(vocab)\n",
    "len(vocab)"
   ],
   "metadata": {
    "collapsed": false,
    "ExecuteTime": {
     "end_time": "2024-06-15T03:40:41.891331Z",
     "start_time": "2024-06-15T03:40:40.081345Z"
    }
   },
   "id": "4c67b60a72282629",
   "execution_count": 5
  }
 ],
 "metadata": {
  "kernelspec": {
   "display_name": "Python 3",
   "language": "python",
   "name": "python3"
  },
  "language_info": {
   "codemirror_mode": {
    "name": "ipython",
    "version": 2
   },
   "file_extension": ".py",
   "mimetype": "text/x-python",
   "name": "python",
   "nbconvert_exporter": "python",
   "pygments_lexer": "ipython2",
   "version": "2.7.6"
  }
 },
 "nbformat": 4,
 "nbformat_minor": 5
}
