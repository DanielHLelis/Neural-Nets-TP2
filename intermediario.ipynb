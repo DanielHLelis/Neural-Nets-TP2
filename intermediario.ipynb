{
 "cells": [
  {
   "cell_type": "code",
   "execution_count": 238,
   "metadata": {},
   "outputs": [],
   "source": [
    "import numpy as np\n",
    "\n",
    "import pandas as pd\n",
    "\n",
    "import torch\n",
    "import torch.nn as nn\n",
    "import torch.optim as optim\n",
    "from torch.utils.data import TensorDataset, DataLoader"
   ]
  },
  {
   "cell_type": "markdown",
   "metadata": {},
   "source": [
    "## Load dataset"
   ]
  },
  {
   "cell_type": "code",
   "execution_count": 239,
   "metadata": {},
   "outputs": [],
   "source": [
    "import polars as pl\n",
    "from sklearn.model_selection import train_test_split\n",
    "\n",
    "RANDOM_SEED = 777\n",
    "TRAIN_RATIO = 0.8\n",
    "\n",
    "df: pd.DataFrame = pl.read_parquet(\"data.parquet.zstd\").to_pandas()\n",
    "train_df, test_df = train_test_split(df, train_size=0.8, random_state=RANDOM_SEED)"
   ]
  },
  {
   "cell_type": "code",
   "execution_count": 240,
   "metadata": {},
   "outputs": [],
   "source": [
    "train_df[\"is_offensive\"] = pd.Categorical((train_df[\"off_relaxed\"].astype(int))).codes\n",
    "test_df[\"is_offensive\"] = pd.Categorical((test_df[\"off_relaxed\"].astype(int))).codes\n",
    "\n",
    "train_df = train_df[[\"text\", \"is_offensive\"]]\n",
    "test_df = test_df[[\"text\", \"is_offensive\"]]"
   ]
  },
  {
   "cell_type": "code",
   "execution_count": 241,
   "metadata": {},
   "outputs": [
    {
     "name": "stderr",
     "output_type": "stream",
     "text": [
      "100%|██████████| 27952/27952 [04:08<00:00, 112.30it/s]\n"
     ]
    }
   ],
   "source": [
    "import re\n",
    "from unidecode import unidecode\n",
    "import spacy\n",
    "\n",
    "from tqdm import tqdm\n",
    "nlp = spacy.load(\"pt_core_news_sm\")\n",
    "lemma = lambda x : x.lemma_\n",
    "\n",
    "# Normalização dos textos\n",
    "for i,row in tqdm(df.iterrows(), total=df.shape[0]):\n",
    "    temp =  row['text'].lower()\n",
    "\n",
    "    # Remoção de vírgulas, aspas, emojis, quebras de linha\n",
    "    temp = re.sub(r'[^\\w\\s]|[\\n]', '',temp)\n",
    "    # Lematização\n",
    "    temp = \" \".join(list(map(lemma, nlp(temp))))\n",
    "    # Removeção de acentos, cedilhas e semelhantes\n",
    "    temp = unidecode(temp)\n",
    "\n",
    "    df.loc[i,'text'] = temp"
   ]
  },
  {
   "cell_type": "code",
   "execution_count": 242,
   "metadata": {},
   "outputs": [
    {
     "data": {
      "text/html": [
       "<div>\n",
       "<style scoped>\n",
       "    .dataframe tbody tr th:only-of-type {\n",
       "        vertical-align: middle;\n",
       "    }\n",
       "\n",
       "    .dataframe tbody tr th {\n",
       "        vertical-align: top;\n",
       "    }\n",
       "\n",
       "    .dataframe thead th {\n",
       "        text-align: right;\n",
       "    }\n",
       "</style>\n",
       "<table border=\"1\" class=\"dataframe\">\n",
       "  <thead>\n",
       "    <tr style=\"text-align: right;\">\n",
       "      <th></th>\n",
       "      <th>text</th>\n",
       "      <th>is_offensive</th>\n",
       "    </tr>\n",
       "  </thead>\n",
       "  <tbody>\n",
       "    <tr>\n",
       "      <th>11359</th>\n",
       "      <td>caralho pqp brasil só mais quatro pontos porra</td>\n",
       "      <td>1</td>\n",
       "    </tr>\n",
       "    <tr>\n",
       "      <th>12042</th>\n",
       "      <td>puta que pariu cacete de vôlei aaaaaaaaa</td>\n",
       "      <td>1</td>\n",
       "    </tr>\n",
       "    <tr>\n",
       "      <th>22230</th>\n",
       "      <td>USER políticos são tds ladrão sem exceção de partido</td>\n",
       "      <td>1</td>\n",
       "    </tr>\n",
       "    <tr>\n",
       "      <th>23690</th>\n",
       "      <td>USER covarde NOJENTA USER👊👊👊👊👊👊👊👊💪</td>\n",
       "      <td>1</td>\n",
       "    </tr>\n",
       "    <tr>\n",
       "      <th>22056</th>\n",
       "      <td>O cara tentando falar e os dois tá tipo FODA USER KAKAKAKAKKAKAKAKKAAK</td>\n",
       "      <td>1</td>\n",
       "    </tr>\n",
       "    <tr>\n",
       "      <th>...</th>\n",
       "      <td>...</td>\n",
       "      <td>...</td>\n",
       "    </tr>\n",
       "    <tr>\n",
       "      <th>26954</th>\n",
       "      <td>tropa de ladrão nesse momento que o USER ta passando ficam brigando os cachorros</td>\n",
       "      <td>1</td>\n",
       "    </tr>\n",
       "    <tr>\n",
       "      <th>16864</th>\n",
       "      <td>a pessoa eh babaca com vc e ainda se sente no direito de se sentir ofendido pq vc n quer mais flar com ele, vai pra casa do caralho</td>\n",
       "      <td>1</td>\n",
       "    </tr>\n",
       "    <tr>\n",
       "      <th>11053</th>\n",
       "      <td>rt USER não tenho coração pra esse vôlei mais!! pqp, vamo meninaaas</td>\n",
       "      <td>1</td>\n",
       "    </tr>\n",
       "    <tr>\n",
       "      <th>11365</th>\n",
       "      <td>rt USER agnaldo n quer dá o cu pra bia.\\n\\npoxa agnaldo</td>\n",
       "      <td>1</td>\n",
       "    </tr>\n",
       "    <tr>\n",
       "      <th>24578</th>\n",
       "      <td>USER HASHTAG mlk escroto</td>\n",
       "      <td>1</td>\n",
       "    </tr>\n",
       "  </tbody>\n",
       "</table>\n",
       "<p>2067 rows × 2 columns</p>\n",
       "</div>"
      ],
      "text/plain": [
       "                                                                                                                                      text  \\\n",
       "11359                                                                                       caralho pqp brasil só mais quatro pontos porra   \n",
       "12042                                                                                             puta que pariu cacete de vôlei aaaaaaaaa   \n",
       "22230                                                                                 USER políticos são tds ladrão sem exceção de partido   \n",
       "23690                                                                                                   USER covarde NOJENTA USER👊👊👊👊👊👊👊👊💪   \n",
       "22056                                                               O cara tentando falar e os dois tá tipo FODA USER KAKAKAKAKKAKAKAKKAAK   \n",
       "...                                                                                                                                    ...   \n",
       "26954                                                     tropa de ladrão nesse momento que o USER ta passando ficam brigando os cachorros   \n",
       "16864  a pessoa eh babaca com vc e ainda se sente no direito de se sentir ofendido pq vc n quer mais flar com ele, vai pra casa do caralho   \n",
       "11053                                                                  rt USER não tenho coração pra esse vôlei mais!! pqp, vamo meninaaas   \n",
       "11365                                                                              rt USER agnaldo n quer dá o cu pra bia.\\n\\npoxa agnaldo   \n",
       "24578                                                                                                             USER HASHTAG mlk escroto   \n",
       "\n",
       "       is_offensive  \n",
       "11359             1  \n",
       "12042             1  \n",
       "22230             1  \n",
       "23690             1  \n",
       "22056             1  \n",
       "...             ...  \n",
       "26954             1  \n",
       "16864             1  \n",
       "11053             1  \n",
       "11365             1  \n",
       "24578             1  \n",
       "\n",
       "[2067 rows x 2 columns]"
      ]
     },
     "metadata": {},
     "output_type": "display_data"
    }
   ],
   "source": [
    "pd.options.display.max_colwidth = 20000\n",
    "pd.options.display.min_rows = 10\n",
    "pd.options.display.max_rows = 10\n",
    "display(test_df[test_df.is_offensive == 1].sample(frac=1))"
   ]
  },
  {
   "cell_type": "code",
   "execution_count": 243,
   "metadata": {},
   "outputs": [],
   "source": [
    "from nltk.corpus import stopwords\n",
    "from nltk import download\n",
    "# download('stopwords')\n",
    "stop_words = stopwords.words('portuguese')"
   ]
  },
  {
   "cell_type": "code",
   "execution_count": 244,
   "metadata": {},
   "outputs": [],
   "source": [
    "from gensim.models import KeyedVectors\n",
    "\n",
    "EMBEDDING_SIZE: int = 300\n",
    "EMBEDDING_FILE: str = 'glove_s300.txt'\n",
    "word2vec: KeyedVectors = KeyedVectors.load_word2vec_format(EMBEDDING_FILE, binary=False)"
   ]
  },
  {
   "cell_type": "code",
   "execution_count": 245,
   "metadata": {},
   "outputs": [],
   "source": [
    "def preprocess(sentence: str) -> list[float]:\n",
    "    return [w for w in sentence.lower().split() if w not in stop_words]\n",
    "\n",
    "def get_cases(df: pd.DataFrame, sequence_length: int = 150) -> tuple[np.ndarray, np.ndarray]:\n",
    "    word_embeddings = []\n",
    "    for _, row in df.iterrows():\n",
    "        sentence = preprocess(row['text'])\n",
    "        L = []\n",
    "        for token in sentence:\n",
    "            if len(L) == sequence_length:\n",
    "                break\n",
    "\n",
    "            try:\n",
    "                L.append(word2vec[token])\n",
    "            except:\n",
    "                L.append([0] * EMBEDDING_SIZE)\n",
    "\n",
    "        while len(L) < sequence_length:\n",
    "            L.append([0] * EMBEDDING_SIZE)\n",
    "\n",
    "        word_embeddings.append(L)\n",
    "\n",
    "    y: np.ndarray = df[\"is_offensive\"].to_numpy()\n",
    "\n",
    "    return np.array(word_embeddings), y"
   ]
  },
  {
   "cell_type": "code",
   "execution_count": 246,
   "metadata": {},
   "outputs": [
    {
     "name": "stdout",
     "output_type": "stream",
     "text": [
      "8429 13932\n",
      "2067 3524\n"
     ]
    }
   ],
   "source": [
    "SEQUENCE_LENGTH: int = 80\n",
    "\n",
    "X_train, y_train = get_cases(train_df, sequence_length = SEQUENCE_LENGTH)\n",
    "X_test, y_test = get_cases(test_df, sequence_length = SEQUENCE_LENGTH)\n",
    "\n",
    "print(sum(y_train), len(y_train)-sum(y_train))\n",
    "print(sum(y_test), len(y_test)-sum(y_test))"
   ]
  },
  {
   "cell_type": "code",
   "execution_count": 247,
   "metadata": {},
   "outputs": [
    {
     "name": "stdout",
     "output_type": "stream",
     "text": [
      "torch.Size([22361, 80, 300])\n",
      "torch.Size([5591, 80, 300])\n",
      "torch.Size([22361, 1])\n",
      "torch.Size([5591, 1])\n"
     ]
    }
   ],
   "source": [
    "BATCH_SIZE: int = 32\n",
    "\n",
    "X_train = torch.FloatTensor(X_train)\n",
    "X_test = torch.FloatTensor(X_test)\n",
    "y_train = torch.FloatTensor(y_train).unsqueeze(dim=-1)\n",
    "y_test = torch.FloatTensor(y_test).unsqueeze(dim=-1)\n",
    "\n",
    "print(X_train.shape)\n",
    "print(X_test.shape)\n",
    "print(y_train.shape)\n",
    "print(y_test.shape)\n",
    "\n",
    "train_dataset = TensorDataset(X_train, y_train)\n",
    "test_dataset = TensorDataset(X_test, y_test)\n",
    "\n",
    "train_loader = DataLoader(train_dataset, batch_size=BATCH_SIZE, shuffle=True)\n",
    "test_loader = DataLoader(test_dataset, batch_size=BATCH_SIZE, shuffle=True)"
   ]
  },
  {
   "cell_type": "code",
   "execution_count": 248,
   "metadata": {},
   "outputs": [],
   "source": [
    "class ModelClass(nn.Module):\n",
    "    def __init__(self, sequence_length: int, hidden_size: int):\n",
    "        super().__init__()\n",
    "\n",
    "        # self.rnn = nn.RNN(EMBEDDING_SIZE, hidden_size, bidirectional=True, batch_first=True, bias=True)\n",
    "\n",
    "        self.flat = nn.Flatten()\n",
    "        # self.fc1 = nn.Linear(2 * hidden_size * sequence_length, sequence_length, bias=True)\n",
    "\n",
    "        self.fc1 = nn.Linear(sequence_length * EMBEDDING_SIZE, 2*sequence_length, bias=False)\n",
    "        self.act1 = nn.ReLU()\n",
    "        self.fc2 = nn.Linear(2*sequence_length, 1, bias=False)\n",
    "\n",
    "    def forward(self, x):\n",
    "        # x, _ = self.rnn(x)\n",
    "        x = self.flat(x)\n",
    "        x = self.act1(self.fc1(x))\n",
    "        x = self.fc2(x)\n",
    "        return x"
   ]
  },
  {
   "cell_type": "code",
   "execution_count": 249,
   "metadata": {},
   "outputs": [
    {
     "name": "stdout",
     "output_type": "stream",
     "text": [
      "cpu\n"
     ]
    }
   ],
   "source": [
    "device = torch.device(\"cuda\" if torch.cuda.is_available() else \"cpu\")\n",
    "print(device)\n",
    "model = ModelClass(SEQUENCE_LENGTH, 8)\n",
    "model = model.to(device)"
   ]
  },
  {
   "cell_type": "code",
   "execution_count": 250,
   "metadata": {},
   "outputs": [],
   "source": [
    "THRESHOLD: float = 0.55\n",
    "\n",
    "LEARNING_RATE: float = 0.0001\n",
    "optimizer = torch.optim.Adam(model.parameters(),lr=LEARNING_RATE)\n",
    "loss_fn = nn.BCEWithLogitsLoss(pos_weight = torch.Tensor([(len(y_train)-sum(y_train))/sum(y_train)]))"
   ]
  },
  {
   "cell_type": "code",
   "execution_count": 251,
   "metadata": {},
   "outputs": [
    {
     "name": "stdout",
     "output_type": "stream",
     "text": [
      "Epoch: 1 | Train Loss: 0.8642237782478333 | Test Loss: 0.855675220489502 | Acc: 0.6302986943301735\n",
      "Epoch: 2 | Train Loss: 0.8570439219474792 | Test Loss: 0.8513886332511902 | Acc: 0.6302986943301735\n",
      "Epoch: 3 | Train Loss: 0.8509977459907532 | Test Loss: 0.8474746942520142 | Acc: 0.6320872831336076\n",
      "Epoch: 4 | Train Loss: 0.8454829454421997 | Test Loss: 0.8437733054161072 | Acc: 0.6335181541763548\n",
      "Epoch: 5 | Train Loss: 0.8402647376060486 | Test Loss: 0.8402207493782043 | Acc: 0.6347701663387587\n",
      "Epoch: 6 | Train Loss: 0.8352590203285217 | Test Loss: 0.8367512822151184 | Acc: 0.6372741906635665\n",
      "Epoch: 7 | Train Loss: 0.8303983211517334 | Test Loss: 0.8332897424697876 | Acc: 0.6388839205866571\n",
      "Epoch: 8 | Train Loss: 0.8256264328956604 | Test Loss: 0.8298004269599915 | Acc: 0.6403147916294044\n",
      "Epoch: 9 | Train Loss: 0.8209078311920166 | Test Loss: 0.8262696862220764 | Acc: 0.6415668037918083\n",
      "Epoch: 10 | Train Loss: 0.8162396550178528 | Test Loss: 0.8227434158325195 | Acc: 0.6426399570738687\n",
      "Epoch: 11 | Train Loss: 0.8116499781608582 | Test Loss: 0.819259524345398 | Acc: 0.6433553925952423\n",
      "Epoch: 12 | Train Loss: 0.8071734309196472 | Test Loss: 0.8158719539642334 | Acc: 0.644965122518333\n",
      "Epoch: 13 | Train Loss: 0.8028240203857422 | Test Loss: 0.812577486038208 | Acc: 0.6463959935610804\n",
      "Epoch: 14 | Train Loss: 0.7985816597938538 | Test Loss: 0.8093386292457581 | Acc: 0.6474691468431407\n",
      "Epoch: 15 | Train Loss: 0.7944010496139526 | Test Loss: 0.8061416149139404 | Acc: 0.6481845823645144\n",
      "Epoch: 16 | Train Loss: 0.7902386784553528 | Test Loss: 0.8029823303222656 | Acc: 0.6499731711679485\n",
      "Epoch: 17 | Train Loss: 0.7860813140869141 | Test Loss: 0.7998788356781006 | Acc: 0.6515829010910392\n",
      "Epoch: 18 | Train Loss: 0.7819457054138184 | Test Loss: 0.796874463558197 | Acc: 0.6517617599713825\n",
      "Epoch: 19 | Train Loss: 0.777869462966919 | Test Loss: 0.79400235414505 | Acc: 0.6515829010910392\n",
      "Epoch: 20 | Train Loss: 0.7738909721374512 | Test Loss: 0.791279137134552 | Acc: 0.6539080665355035\n",
      "Epoch: 21 | Train Loss: 0.7700319290161133 | Test Loss: 0.788702666759491 | Acc: 0.6555177964585942\n",
      "Epoch: 22 | Train Loss: 0.7662912607192993 | Test Loss: 0.7862527966499329 | Acc: 0.6569486675013414\n",
      "Epoch: 23 | Train Loss: 0.7626516819000244 | Test Loss: 0.7839105129241943 | Acc: 0.6583795385440887\n",
      "Epoch: 24 | Train Loss: 0.7590922713279724 | Test Loss: 0.781669020652771 | Acc: 0.6599892684671794\n",
      "Epoch: 25 | Train Loss: 0.7556071281433105 | Test Loss: 0.7795347571372986 | Acc: 0.6612412806295832\n",
      "Epoch: 26 | Train Loss: 0.7521976828575134 | Test Loss: 0.7775159478187561 | Acc: 0.6610624217492399\n",
      "Epoch: 27 | Train Loss: 0.7488728165626526 | Test Loss: 0.7756139636039734 | Acc: 0.6610624217492399\n",
      "Epoch: 28 | Train Loss: 0.7456356287002563 | Test Loss: 0.7738165855407715 | Acc: 0.66159899839027\n",
      "Epoch: 29 | Train Loss: 0.7424768805503845 | Test Loss: 0.7721073031425476 | Acc: 0.6633875871937042\n",
      "Epoch: 30 | Train Loss: 0.7393828630447388 | Test Loss: 0.7704678773880005 | Acc: 0.6649973171167949\n",
      "Epoch: 31 | Train Loss: 0.7363429665565491 | Test Loss: 0.7688912749290466 | Acc: 0.6675013414416026\n",
      "Epoch: 32 | Train Loss: 0.7333568334579468 | Test Loss: 0.7673798203468323 | Acc: 0.6691110713646933\n",
      "Epoch: 33 | Train Loss: 0.730431854724884 | Test Loss: 0.7659397721290588 | Acc: 0.671615095689501\n",
      "Epoch: 34 | Train Loss: 0.7275780439376831 | Test Loss: 0.7645744681358337 | Acc: 0.6728671078519048\n",
      "Epoch: 35 | Train Loss: 0.7247993350028992 | Test Loss: 0.7632836103439331 | Acc: 0.6737614022536219\n",
      "Epoch: 36 | Train Loss: 0.7220939993858337 | Test Loss: 0.7620646953582764 | Acc: 0.6742979788946522\n",
      "Epoch: 37 | Train Loss: 0.7194566130638123 | Test Loss: 0.7609150409698486 | Acc: 0.6762654265784296\n",
      "Epoch: 38 | Train Loss: 0.7168822288513184 | Test Loss: 0.7598331570625305 | Acc: 0.6780540153818637\n",
      "Epoch: 39 | Train Loss: 0.7143678069114685 | Test Loss: 0.7588182091712952 | Acc: 0.6800214630656413\n",
      "Epoch: 40 | Train Loss: 0.7119119763374329 | Test Loss: 0.7578641772270203 | Acc: 0.6802003219459846\n",
      "Epoch: 41 | Train Loss: 0.7095117568969727 | Test Loss: 0.7569620609283447 | Acc: 0.680379180826328\n",
      "Epoch: 42 | Train Loss: 0.707161545753479 | Test Loss: 0.7561007738113403 | Acc: 0.6807368985870148\n",
      "Epoch: 43 | Train Loss: 0.7048551440238953 | Test Loss: 0.7552726864814758 | Acc: 0.6809157574673582\n",
      "Epoch: 44 | Train Loss: 0.7025884389877319 | Test Loss: 0.7544755935668945 | Acc: 0.6818100518690753\n",
      "Epoch: 45 | Train Loss: 0.7003615498542786 | Test Loss: 0.7537113428115845 | Acc: 0.6814523341083885\n",
      "Epoch: 46 | Train Loss: 0.6981760263442993 | Test Loss: 0.752983570098877 | Acc: 0.6828832051511358\n",
      "Epoch: 47 | Train Loss: 0.6960335969924927 | Test Loss: 0.7522956728935242 | Acc: 0.6839563584331962\n",
      "Epoch: 48 | Train Loss: 0.6939337849617004 | Test Loss: 0.7516488432884216 | Acc: 0.6853872294759434\n",
      "Epoch: 49 | Train Loss: 0.6918739676475525 | Test Loss: 0.7510429620742798 | Acc: 0.6862815238776605\n",
      "Epoch: 50 | Train Loss: 0.6898508667945862 | Test Loss: 0.750476598739624 | Acc: 0.6864603827580039\n",
      "Epoch: 51 | Train Loss: 0.6878625154495239 | Test Loss: 0.7499479651451111 | Acc: 0.6864603827580039\n",
      "Epoch: 52 | Train Loss: 0.685907781124115 | Test Loss: 0.7494536638259888 | Acc: 0.6875335360400644\n",
      "Epoch: 53 | Train Loss: 0.6839854717254639 | Test Loss: 0.748989462852478 | Acc: 0.6878912538007512\n",
      "Epoch: 54 | Train Loss: 0.6820937991142273 | Test Loss: 0.7485508918762207 | Acc: 0.6884278304417815\n",
      "Epoch: 55 | Train Loss: 0.6802307963371277 | Test Loss: 0.7481354475021362 | Acc: 0.6889644070828117\n",
      "Epoch: 56 | Train Loss: 0.6783952116966248 | Test Loss: 0.7477437257766724 | Acc: 0.6891432659631551\n",
      "Epoch: 57 | Train Loss: 0.6765868067741394 | Test Loss: 0.7473787665367126 | Acc: 0.6907529958862457\n",
      "Epoch: 58 | Train Loss: 0.6748054027557373 | Test Loss: 0.7470438480377197 | Acc: 0.6923627258093364\n",
      "Epoch: 59 | Train Loss: 0.6730505228042603 | Test Loss: 0.746740996837616 | Acc: 0.6927204435700233\n",
      "Epoch: 60 | Train Loss: 0.6713213920593262 | Test Loss: 0.7464714050292969 | Acc: 0.6934358790913969\n",
      "Epoch: 61 | Train Loss: 0.6696165800094604 | Test Loss: 0.7462336421012878 | Acc: 0.6936147379717403\n",
      "Epoch: 62 | Train Loss: 0.6679349541664124 | Test Loss: 0.7460248470306396 | Acc: 0.6939724557324272\n",
      "Epoch: 63 | Train Loss: 0.666276216506958 | Test Loss: 0.7458401322364807 | Acc: 0.6936147379717403\n",
      "Epoch: 64 | Train Loss: 0.6646398901939392 | Test Loss: 0.7456737756729126 | Acc: 0.6930781613307101\n",
      "Epoch: 65 | Train Loss: 0.6630253791809082 | Test Loss: 0.745520830154419 | Acc: 0.6936147379717403\n",
      "Epoch: 66 | Train Loss: 0.6614317297935486 | Test Loss: 0.7453779578208923 | Acc: 0.6946878912538007\n",
      "Epoch: 67 | Train Loss: 0.6598580479621887 | Test Loss: 0.7452445030212402 | Acc: 0.6952244678948309\n",
      "Epoch: 68 | Train Loss: 0.6583035588264465 | Test Loss: 0.7451224327087402 | Acc: 0.6954033267751744\n",
      "Epoch: 69 | Train Loss: 0.6567681431770325 | Test Loss: 0.7450152635574341 | Acc: 0.6968341978179217\n",
      "Epoch: 70 | Train Loss: 0.6552513241767883 | Test Loss: 0.7449268102645874 | Acc: 0.6973707744589519\n",
      "Epoch: 71 | Train Loss: 0.6537525653839111 | Test Loss: 0.7448592782020569 | Acc: 0.6980862099803256\n",
      "Epoch: 72 | Train Loss: 0.6522716283798218 | Test Loss: 0.7448133826255798 | Acc: 0.6984439277410124\n",
      "Epoch: 73 | Train Loss: 0.6508079171180725 | Test Loss: 0.7447877526283264 | Acc: 0.698265068860669\n",
      "Epoch: 74 | Train Loss: 0.6493614315986633 | Test Loss: 0.7447800636291504 | Acc: 0.6984439277410124\n",
      "Epoch: 75 | Train Loss: 0.6479315757751465 | Test Loss: 0.7447865605354309 | Acc: 0.6984439277410124\n",
      "Epoch: 76 | Train Loss: 0.6465179920196533 | Test Loss: 0.7448045611381531 | Acc: 0.6991593632623859\n",
      "Epoch: 77 | Train Loss: 0.6451199054718018 | Test Loss: 0.7448326349258423 | Acc: 0.6986227866213558\n",
      "Epoch: 78 | Train Loss: 0.6437368392944336 | Test Loss: 0.744871973991394 | Acc: 0.698265068860669\n",
      "Epoch: 79 | Train Loss: 0.6423686146736145 | Test Loss: 0.7449249625205994 | Acc: 0.6986227866213558\n",
      "Epoch: 80 | Train Loss: 0.6410149335861206 | Test Loss: 0.744994044303894 | Acc: 0.6986227866213558\n",
      "Epoch: 81 | Train Loss: 0.6396756768226624 | Test Loss: 0.7450804114341736 | Acc: 0.6984439277410124\n",
      "Epoch: 82 | Train Loss: 0.6383503675460815 | Test Loss: 0.7451844215393066 | Acc: 0.6977284922196387\n",
      "Epoch: 83 | Train Loss: 0.6370387673377991 | Test Loss: 0.7453049421310425 | Acc: 0.6980862099803256\n",
      "Epoch: 84 | Train Loss: 0.635740339756012 | Test Loss: 0.7454391121864319 | Acc: 0.6975496333392953\n",
      "Epoch: 85 | Train Loss: 0.6344552636146545 | Test Loss: 0.7455840706825256 | Acc: 0.6977284922196387\n",
      "Epoch: 86 | Train Loss: 0.6331828832626343 | Test Loss: 0.7457373142242432 | Acc: 0.6984439277410124\n",
      "Epoch: 87 | Train Loss: 0.6319230794906616 | Test Loss: 0.7458979487419128 | Acc: 0.6989805043820426\n",
      "Epoch: 88 | Train Loss: 0.6306753158569336 | Test Loss: 0.7460665106773376 | Acc: 0.6988016455016992\n",
      "Epoch: 89 | Train Loss: 0.6294395327568054 | Test Loss: 0.7462448477745056 | Acc: 0.6989805043820426\n",
      "Epoch: 90 | Train Loss: 0.6282154321670532 | Test Loss: 0.7464348673820496 | Acc: 0.6996959399034162\n",
      "Epoch: 91 | Train Loss: 0.6270028948783875 | Test Loss: 0.7466376423835754 | Acc: 0.6989805043820426\n",
      "Epoch: 92 | Train Loss: 0.6258015036582947 | Test Loss: 0.7468534708023071 | Acc: 0.6993382221427293\n",
      "Epoch: 93 | Train Loss: 0.6246112585067749 | Test Loss: 0.7470813393592834 | Acc: 0.700053657664103\n",
      "Epoch: 94 | Train Loss: 0.623431921005249 | Test Loss: 0.7473195791244507 | Acc: 0.7009479520658201\n",
      "Epoch: 95 | Train Loss: 0.6222631931304932 | Test Loss: 0.747566282749176 | Acc: 0.7013056698265069\n",
      "Epoch: 96 | Train Loss: 0.6211048364639282 | Test Loss: 0.7478209137916565 | Acc: 0.7014845287068503\n",
      "Epoch: 97 | Train Loss: 0.6199566721916199 | Test Loss: 0.7480834722518921 | Acc: 0.7020211053478805\n",
      "Epoch: 98 | Train Loss: 0.6188186407089233 | Test Loss: 0.7483543753623962 | Acc: 0.7023788231085674\n",
      "Epoch: 99 | Train Loss: 0.6176905035972595 | Test Loss: 0.7486346364021301 | Acc: 0.703094258629941\n",
      "Epoch: 100 | Train Loss: 0.6165720820426941 | Test Loss: 0.7489250302314758 | Acc: 0.703094258629941\n",
      "Epoch: 101 | Train Loss: 0.6154630184173584 | Test Loss: 0.7492256164550781 | Acc: 0.703094258629941\n",
      "Epoch: 102 | Train Loss: 0.6143633127212524 | Test Loss: 0.7495364546775818 | Acc: 0.7038096941513146\n",
      "Epoch: 103 | Train Loss: 0.613273024559021 | Test Loss: 0.7498562335968018 | Acc: 0.7041674119120014\n",
      "Epoch: 104 | Train Loss: 0.6121916174888611 | Test Loss: 0.7501835823059082 | Acc: 0.7047039885530316\n",
      "Epoch: 105 | Train Loss: 0.6111190319061279 | Test Loss: 0.7505170106887817 | Acc: 0.7050617063137185\n",
      "Epoch: 106 | Train Loss: 0.6100552678108215 | Test Loss: 0.7508555054664612 | Acc: 0.7045251296726882\n",
      "Epoch: 107 | Train Loss: 0.609000027179718 | Test Loss: 0.7511992454528809 | Acc: 0.7050617063137185\n",
      "Epoch: 108 | Train Loss: 0.6079532504081726 | Test Loss: 0.7515496611595154 | Acc: 0.7057771418350921\n",
      "Epoch: 109 | Train Loss: 0.606914758682251 | Test Loss: 0.7519078254699707 | Acc: 0.7052405651940619\n",
      "Epoch: 110 | Train Loss: 0.6058845520019531 | Test Loss: 0.7522741556167603 | Acc: 0.7055982829547487\n",
      "Epoch: 111 | Train Loss: 0.6048623919487 | Test Loss: 0.7526490092277527 | Acc: 0.7063137184761223\n",
      "Epoch: 112 | Train Loss: 0.6038482189178467 | Test Loss: 0.7530314922332764 | Acc: 0.7073868717581828\n",
      "Epoch: 113 | Train Loss: 0.6028417348861694 | Test Loss: 0.7534204125404358 | Acc: 0.7073868717581828\n",
      "Epoch: 114 | Train Loss: 0.6018429398536682 | Test Loss: 0.7538150548934937 | Acc: 0.7077445895188696\n",
      "Epoch: 115 | Train Loss: 0.6008517146110535 | Test Loss: 0.7542150616645813 | Acc: 0.7075657306385262\n",
      "Epoch: 116 | Train Loss: 0.5998677611351013 | Test Loss: 0.7546215057373047 | Acc: 0.7084600250402433\n",
      "Epoch: 117 | Train Loss: 0.5988910794258118 | Test Loss: 0.7550350427627563 | Acc: 0.70881774280093\n",
      "Epoch: 118 | Train Loss: 0.5979217290878296 | Test Loss: 0.7554557919502258 | Acc: 0.7086388839205866\n",
      "Epoch: 119 | Train Loss: 0.5969594120979309 | Test Loss: 0.7558834552764893 | Acc: 0.7077445895188696\n",
      "Epoch: 120 | Train Loss: 0.5960040092468262 | Test Loss: 0.7563168406486511 | Acc: 0.7079234483992131\n",
      "Epoch: 121 | Train Loss: 0.5950555205345154 | Test Loss: 0.756755530834198 | Acc: 0.7079234483992131\n",
      "Epoch: 122 | Train Loss: 0.5941137671470642 | Test Loss: 0.7572001218795776 | Acc: 0.7081023072795565\n",
      "Epoch: 123 | Train Loss: 0.5931786298751831 | Test Loss: 0.7576510906219482 | Acc: 0.7086388839205866\n",
      "Epoch: 124 | Train Loss: 0.592249870300293 | Test Loss: 0.7581079602241516 | Acc: 0.70881774280093\n",
      "Epoch: 125 | Train Loss: 0.5913275480270386 | Test Loss: 0.7585690021514893 | Acc: 0.7091754605616168\n",
      "Epoch: 126 | Train Loss: 0.5904114842414856 | Test Loss: 0.7590353488922119 | Acc: 0.7091754605616168\n",
      "Epoch: 127 | Train Loss: 0.5895016193389893 | Test Loss: 0.7595075368881226 | Acc: 0.7095331783223037\n",
      "Epoch: 128 | Train Loss: 0.5885980129241943 | Test Loss: 0.7599854469299316 | Acc: 0.7097120372026471\n",
      "Epoch: 129 | Train Loss: 0.5877004861831665 | Test Loss: 0.7604697346687317 | Acc: 0.7100697549633339\n",
      "Epoch: 130 | Train Loss: 0.5868088006973267 | Test Loss: 0.7609599232673645 | Acc: 0.7098908960829905\n",
      "Epoch: 131 | Train Loss: 0.5859231948852539 | Test Loss: 0.7614549994468689 | Acc: 0.7095331783223037\n",
      "Epoch: 132 | Train Loss: 0.5850434899330139 | Test Loss: 0.7619543075561523 | Acc: 0.7100697549633339\n",
      "Epoch: 133 | Train Loss: 0.5841695666313171 | Test Loss: 0.7624578475952148 | Acc: 0.7097120372026471\n",
      "Epoch: 134 | Train Loss: 0.5833011865615845 | Test Loss: 0.7629665732383728 | Acc: 0.7098908960829905\n",
      "Epoch: 135 | Train Loss: 0.5824384093284607 | Test Loss: 0.7634796500205994 | Acc: 0.7097120372026471\n",
      "Epoch: 136 | Train Loss: 0.5815810561180115 | Test Loss: 0.7639967799186707 | Acc: 0.7095331783223037\n",
      "Epoch: 137 | Train Loss: 0.5807291865348816 | Test Loss: 0.7645182013511658 | Acc: 0.7095331783223037\n",
      "Epoch: 138 | Train Loss: 0.5798826217651367 | Test Loss: 0.7650447487831116 | Acc: 0.7093543194419603\n",
      "Epoch: 139 | Train Loss: 0.5790414214134216 | Test Loss: 0.7655762434005737 | Acc: 0.7095331783223037\n",
      "Epoch: 140 | Train Loss: 0.5782053470611572 | Test Loss: 0.766111433506012 | Acc: 0.7098908960829905\n",
      "Epoch: 141 | Train Loss: 0.5773745179176331 | Test Loss: 0.7666501402854919 | Acc: 0.7102486138436773\n",
      "Epoch: 142 | Train Loss: 0.57654869556427 | Test Loss: 0.767193078994751 | Acc: 0.7104274727240207\n",
      "Epoch: 143 | Train Loss: 0.5757277011871338 | Test Loss: 0.7677414417266846 | Acc: 0.7104274727240207\n",
      "Epoch: 144 | Train Loss: 0.5749116539955139 | Test Loss: 0.7682931423187256 | Acc: 0.7102486138436773\n",
      "Epoch: 145 | Train Loss: 0.5741004347801208 | Test Loss: 0.7688475847244263 | Acc: 0.7097120372026471\n",
      "Epoch: 146 | Train Loss: 0.573293924331665 | Test Loss: 0.7694058418273926 | Acc: 0.7100697549633339\n",
      "Epoch: 147 | Train Loss: 0.5724921822547913 | Test Loss: 0.7699677348136902 | Acc: 0.7102486138436773\n",
      "Epoch: 148 | Train Loss: 0.5716949701309204 | Test Loss: 0.7705338597297668 | Acc: 0.7106063316043641\n",
      "Epoch: 149 | Train Loss: 0.570902407169342 | Test Loss: 0.7711054086685181 | Acc: 0.7104274727240207\n",
      "Epoch: 150 | Train Loss: 0.5701143145561218 | Test Loss: 0.7716812491416931 | Acc: 0.7100697549633339\n"
     ]
    }
   ],
   "source": [
    "N_EPOCHS: int = 150\n",
    "\n",
    "train_losses: list[float] = []\n",
    "test_losses: list[float] = []\n",
    "test_acc: list[float] = []\n",
    "\n",
    "for epoch in range(N_EPOCHS):\n",
    "    y_hat = model(X_train)\n",
    "    loss = loss_fn(y_hat, y_train)\n",
    "\n",
    "    optimizer.zero_grad()\n",
    "    loss.backward()\n",
    "    optimizer.step()\n",
    "\n",
    "    train_losses.append(float(loss))\n",
    "\n",
    "    with torch.no_grad():\n",
    "        y_hat = model(X_test)\n",
    "        loss = loss_fn(y_hat, y_test)\n",
    "\n",
    "        acc = np.sum((y_test.numpy() == (y_hat.numpy() > THRESHOLD).astype(int)).astype(float))/len(y_test)\n",
    "\n",
    "        test_acc.append(acc)\n",
    "        test_losses.append(float(loss))\n",
    "\n",
    "    print(f\"Epoch: {epoch+1} | Train Loss: {train_losses[-1]} | Test Loss: {test_losses[-1]} | Acc: {test_acc[-1]}\")\n",
    "\n",
    "torch.save(model.state_dict(), \"rnn_model3.pt\")"
   ]
  },
  {
   "cell_type": "code",
   "execution_count": 258,
   "metadata": {},
   "outputs": [
    {
     "name": "stdout",
     "output_type": "stream",
     "text": [
      "tensor([[-2.3230],\n",
      "        [-0.0176],\n",
      "        [-1.0192],\n",
      "        [-0.2294],\n",
      "        [ 0.5128],\n",
      "        [-1.2854],\n",
      "        [-0.7839],\n",
      "        [ 0.2681],\n",
      "        [-4.6621],\n",
      "        [-0.0753],\n",
      "        [ 1.4082],\n",
      "        [-0.7760],\n",
      "        [-1.3770],\n",
      "        [ 0.9899],\n",
      "        [-0.5768],\n",
      "        [-0.3960],\n",
      "        [-1.9315],\n",
      "        [-0.4611],\n",
      "        [-0.5584],\n",
      "        [-0.3721]], grad_fn=<SliceBackward0>)\n"
     ]
    },
    {
     "data": {
      "text/plain": [
       "<matplotlib.legend.Legend at 0x1b2b05ddbb0>"
      ]
     },
     "execution_count": 258,
     "metadata": {},
     "output_type": "execute_result"
    },
    {
     "data": {
      "image/png": "[encoded data removed]",
      "text/plain": [
       "<Figure size 600x400 with 1 Axes>"
      ]
     },
     "metadata": {},
     "output_type": "display_data"
    }
   ],
   "source": [
    "import matplotlib.pyplot as plt\n",
    "\n",
    "print(model(X_test)[0:20])\n",
    "\n",
    "plt.figure(figsize = (6,4))\n",
    "plt.xlabel(\"Epoch\")\n",
    "plt.ylabel(\"Loss\")\n",
    "plt.plot(np.arange(len(train_losses)), train_losses, label = 'Train')\n",
    "plt.plot(np.arange(len(test_losses)), test_losses, label = 'Test')\n",
    "plt.legend()"
   ]
  },
  {
   "cell_type": "code",
   "execution_count": 253,
   "metadata": {},
   "outputs": [],
   "source": [
    "def confusion(prediction, truth):\n",
    "    \"\"\" Returns the confusion matrix for the values in the `prediction` and `truth`\n",
    "    tensors, i.e. the amount of positions where the values of `prediction`\n",
    "    and `truth` are\n",
    "    - 1 and 1 (True Positive)\n",
    "    - 1 and 0 (False Positive)\n",
    "    - 0 and 0 (True Negative)\n",
    "    - 0 and 1 (False Negative)\n",
    "    \"\"\"\n",
    "\n",
    "    confusion_vector = prediction / truth\n",
    "    # Element-wise division of the 2 tensors returns a new tensor which holds a\n",
    "    # unique value for each case:\n",
    "    #   1     where prediction and truth are 1 (True Positive)\n",
    "    #   inf   where prediction is 1 and truth is 0 (False Positive)\n",
    "    #   nan   where prediction and truth are 0 (True Negative)\n",
    "    #   0     where prediction is 0 and truth is 1 (False Negative)\n",
    "\n",
    "    true_positives = torch.sum(confusion_vector == 1).item()\n",
    "    false_positives = torch.sum(confusion_vector == float('inf')).item()\n",
    "    true_negatives = torch.sum(torch.isnan(confusion_vector)).item()\n",
    "    false_negatives = torch.sum(confusion_vector == 0).item()\n",
    "\n",
    "    return true_positives, false_positives, true_negatives, false_negatives"
   ]
  },
  {
   "cell_type": "code",
   "execution_count": 283,
   "metadata": {},
   "outputs": [],
   "source": [
    "y_hat = model(X_test)\n",
    "fixed_results = nn.Sigmoid()(y_hat).detach() > THRESHOLD\n",
    "fixed_targets = y_test > THRESHOLD"
   ]
  },
  {
   "cell_type": "code",
   "execution_count": 284,
   "metadata": {},
   "outputs": [
    {
     "data": {
      "image/png": "[encoded data removed]",
      "text/plain": [
       "<Figure size 640x480 with 2 Axes>"
      ]
     },
     "metadata": {},
     "output_type": "display_data"
    }
   ],
   "source": [
    "import seaborn as sn\n",
    "tp, fp, tn, fn = confusion(fixed_results, fixed_targets)\n",
    "\n",
    "array = [[tn, fp],\n",
    "         [fn, tp]]\n",
    "\n",
    "df_cm = pd.DataFrame(array, range(2), range(2))\n",
    "# plt.figure(figsize=(10,7))\n",
    "sn.set(font_scale=1.4) # for label size\n",
    "sn.heatmap(df_cm, annot=True, annot_kws={\"size\": 8}, fmt=\"d\") # font size\n",
    "\n",
    "plt.show()"
   ]
  },
  {
   "cell_type": "code",
   "execution_count": 285,
   "metadata": {},
   "outputs": [],
   "source": [
    "fixed_results = fixed_results.numpy()\n",
    "fixed_targets = fixed_targets.numpy()"
   ]
  },
  {
   "cell_type": "code",
   "execution_count": 286,
   "metadata": {},
   "outputs": [
    {
     "name": "stdout",
     "output_type": "stream",
     "text": [
      "Model Metrics:\n",
      "Weighted F1 = 0.705326\n",
      "Macro F1 = 0.682666\n",
      "Weighted F2 Score = 0.705995\n",
      "Macro F2 Score = 0.681847\n",
      "Accuracy = 0.706493\n",
      "Recall = 0.706493\n",
      "Precision = 0.704418\n"
     ]
    }
   ],
   "source": [
    "from sklearn.metrics import (\n",
    "    f1_score, fbeta_score, accuracy_score, recall_score, precision_score)\n",
    "\n",
    "fixed_weighted_f1 = f1_score(fixed_targets, fixed_results, average='weighted')\n",
    "fixed_macro_f1 = f1_score(fixed_targets, fixed_results, average='macro')\n",
    "fixed_weighted_f2 = fbeta_score(fixed_targets, fixed_results, beta=2, average='weighted')\n",
    "fixed_macro_f2 = fbeta_score(fixed_targets, fixed_results, beta=2, average='macro')\n",
    "fixed_accuracy = accuracy_score(fixed_targets, fixed_results)\n",
    "fixed_recall = recall_score(fixed_targets, fixed_results, average='weighted')\n",
    "fixed_precision = precision_score(fixed_targets, fixed_results, average='weighted')\n",
    "\n",
    "print(\"Model Metrics:\")\n",
    "print(f\"Weighted F1 = {fixed_weighted_f1:.6f}\")\n",
    "print(f\"Macro F1 = {fixed_macro_f1:.6f}\")\n",
    "print(f\"Weighted F2 Score = {fbeta_score(fixed_targets, fixed_results, beta=2, average='weighted'):.6f}\")\n",
    "print(f\"Macro F2 Score = {fbeta_score(fixed_targets, fixed_results, beta=2, average='macro'):.6f}\")\n",
    "print(f\"Accuracy = {fixed_accuracy:.6f}\")\n",
    "print(f\"Recall = {fixed_recall:.6f}\")\n",
    "print(f\"Precision = {fixed_precision:.6f}\")"
   ]
  }
 ],
 "metadata": {
  "kernelspec": {
   "display_name": "Python 3",
   "language": "python",
   "name": "python3"
  },
  "language_info": {
   "codemirror_mode": {
    "name": "ipython",
    "version": 3
   },
   "file_extension": ".py",
   "mimetype": "text/x-python",
   "name": "python",
   "nbconvert_exporter": "python",
   "pygments_lexer": "ipython3",
   "version": "3.12.1"
  }
 },
 "nbformat": 4,
 "nbformat_minor": 2
}
